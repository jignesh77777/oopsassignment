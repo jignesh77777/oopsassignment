{
 "cells": [
  {
   "cell_type": "code",
   "execution_count": null,
   "id": "6832237f-b0d2-4d04-86c3-18d666893948",
   "metadata": {},
   "outputs": [],
   "source": [
    "Problem 1: Bank Account Create a class representing a bank account with attributes like account number, account holder name, and balance. Implement methods to deposit and withdraw money from the account.\n",
    "\n",
    "Problem 2: Employee Management Create a class representing an employee with attributes like employee ID, name, and salary. Implement methods to calculate the yearly bonus and display employee details.\n",
    "\n",
    "Problem 3: Vehicle Rental Create a class representing a vehicle rental system. Implement methods to rent a vehicle, return a vehicle, and display available vehicles.\n",
    "\n",
    "Problem 4: Library Catalog Create classes representing a library and a book. Implement methods to add books to the library, borrow books, and display available books.\n",
    "\n",
    "Problem 5: Product Inventory Create classes representing a product and an inventory system. Implement methods to add products to the inventory, update product quantity, and display available products.\n",
    "\n",
    "Problem 6: Shape Calculation Create a class representing a shape with attributes like length, width, and height. Implement methods to calculate the area and perimeter of the shape.\n",
    "\n",
    "Problem 7: Student Management Create a class representing a student with attributes like student ID, name, and grades. Implement methods to calculate the average grade and display student details.\n",
    "\n",
    "Problem 8: Email Management Create a class representing an email with attributes like sender, recipient, and subject. Implement methods to send an email and display email details.\n",
    "\n",
    "Problem 9: Social Media Profile Create a class representing a social media profile with attributes like username and posts. Implement methods to add posts, display posts, and search for posts by keyword.\n",
    "\n",
    "Problem 10: ToDo List Create a class representing a ToDo list with attributes like tasks and due dates. Implement methods to add tasks, mark tasks as completed, and display pending tasks."
   ]
  },
  {
   "cell_type": "markdown",
   "id": "15988711-afca-474e-82ca-e6c470a09f7c",
   "metadata": {},
   "source": [
    "Problem 1: Bank Account Create a class representing a bank account with attributes like account number, account holder name, and balance. Implement methods to deposit and withdraw money from the account."
   ]
  },
  {
   "cell_type": "markdown",
   "id": "cc20c7f5-c394-4689-b834-ec92b3e0c1fa",
   "metadata": {},
   "source": [
    "Ans."
   ]
  },
  {
   "cell_type": "code",
   "execution_count": 24,
   "id": "61647347-7eb7-4877-8925-adbc5647d2b2",
   "metadata": {},
   "outputs": [],
   "source": [
    "class Bank_Account:\n",
    "    \n",
    "    def __init__(self, balance=0.0):\n",
    "        self.balance= balance\n",
    "        \n",
    "    def deposite(self,amount):\n",
    "        if amount > 0:\n",
    "            self.balance += amount\n",
    "            return (f\"the deposite amt is {self.balance} \")\n",
    "        else:\n",
    "            return \"Invalid deposit amount. Please deposit a positive amount.\"\n",
    "    def withdraw_money(self,amount):\n",
    "        if amount > 0 and amount <= self.balance:\n",
    "            self.balance -= amount\n",
    "            return f\"Withdrew ${amount}. New balance: ${self.balance}\"\n",
    "        elif amount <= 0:\n",
    "             return \"Invalid withdrawal amount. Please withdraw a positive amount.\"\n",
    "        else:\n",
    "                return \"Insufficient funds. Withdrawal not allowed.\"\n",
    "\n",
    "    def account_number(self,number):\n",
    "        self.number=number\n",
    "        print(f\"the acc number is {self.number}\")\n",
    "        \n",
    "    def account_holder_name(self,name):\n",
    "        self.name=name\n",
    "        print(f\"the account holder name is , {self.name}\")\n",
    "        \n",
    "    def  get_balance(self):\n",
    "        print(f\"the available balance is {self.balance}\")\n",
    "    \n",
    "        \n",
    "        \n",
    "    "
   ]
  },
  {
   "cell_type": "code",
   "execution_count": 25,
   "id": "0a7992a2-8f82-4b7f-8ef2-3315694a11db",
   "metadata": {},
   "outputs": [
    {
     "name": "stdout",
     "output_type": "stream",
     "text": [
      "the acc number is 1245\n"
     ]
    }
   ],
   "source": [
    "obj=Bank_Account()\n",
    "obj.account_number(1245)"
   ]
  },
  {
   "cell_type": "code",
   "execution_count": 26,
   "id": "e29b33c1-5900-4af5-9db5-d6c349fc639a",
   "metadata": {},
   "outputs": [
    {
     "data": {
      "text/plain": [
       "'the deposite amt is 10000.0 '"
      ]
     },
     "execution_count": 26,
     "metadata": {},
     "output_type": "execute_result"
    }
   ],
   "source": [
    "obj.deposite(10000)"
   ]
  },
  {
   "cell_type": "code",
   "execution_count": 29,
   "id": "c760de17-d28f-4928-bf88-36535c5b1844",
   "metadata": {},
   "outputs": [
    {
     "name": "stdout",
     "output_type": "stream",
     "text": [
      "the available balance is 8000.0\n"
     ]
    }
   ],
   "source": [
    "obj.deposite(1000)\n",
    "obj.withdraw_money(4000)\n",
    "obj.get_balance()"
   ]
  },
  {
   "cell_type": "code",
   "execution_count": null,
   "id": "e09df554-ab03-4f9e-a7c7-bcca91b01f01",
   "metadata": {},
   "outputs": [],
   "source": []
  },
  {
   "cell_type": "markdown",
   "id": "930f896f-f664-4b8a-933a-4a92c3c2e6ed",
   "metadata": {},
   "source": [
    "Problem 2: Employee Management Create a class representing an employee with attributes like employee ID, name, and salary. Implement methods to calculate the yearly bonus and display employee details.\n"
   ]
  },
  {
   "cell_type": "code",
   "execution_count": 25,
   "id": "df99b661-6cb6-4ca9-aaae-481ed3f6260d",
   "metadata": {},
   "outputs": [],
   "source": [
    "class Employee:\n",
    "    \n",
    "    def __init__(self,employee_id,name,salary,bonus=0.0):\n",
    "        self.employee_id=employee_id\n",
    "        self.name=name\n",
    "        self.salary=salary\n",
    "        self.bonus=bonus\n",
    "        \n",
    "    def Employee_details(self):\n",
    "        return (f\"the employee id is {self.employee_id} and name of the employee is {self.name} and his income is {self.salary} per  month\")\n",
    "        \n",
    "    def yearly_bonus(self,yearly_bonus):\n",
    "        self.bonus += yearly_bonus \n",
    "        return (f\"Empoyee gets the overall bonus is {self.bonus}\")\n",
    "        \n",
    "        \n",
    "        "
   ]
  },
  {
   "cell_type": "code",
   "execution_count": 26,
   "id": "b3ef85b8-8eda-43e5-b030-52b5c228ecbe",
   "metadata": {},
   "outputs": [
    {
     "name": "stdout",
     "output_type": "stream",
     "text": [
      "<__main__.Employee object at 0x7f2e027254e0>\n"
     ]
    }
   ],
   "source": [
    "emp=Employee('123','jignesh','35000')\n",
    "print(emp)"
   ]
  },
  {
   "cell_type": "code",
   "execution_count": 27,
   "id": "1237939c-3704-486a-8559-e6132a53bf41",
   "metadata": {},
   "outputs": [
    {
     "data": {
      "text/plain": [
       "'the employee id is 123 and name of the employee is jignesh and his income is 35000 per  month'"
      ]
     },
     "execution_count": 27,
     "metadata": {},
     "output_type": "execute_result"
    }
   ],
   "source": [
    "emp.Employee_details()"
   ]
  },
  {
   "cell_type": "code",
   "execution_count": 28,
   "id": "4a4d1957-d8f2-495a-aafd-993f48b6e2c8",
   "metadata": {},
   "outputs": [
    {
     "data": {
      "text/plain": [
       "'Empoyee gets the overall bonus is 120000.0'"
      ]
     },
     "execution_count": 28,
     "metadata": {},
     "output_type": "execute_result"
    }
   ],
   "source": [
    "emp.yearly_bonus(120000)"
   ]
  },
  {
   "cell_type": "code",
   "execution_count": 29,
   "id": "27f54881-84d8-4855-94de-a0735a8c0fa7",
   "metadata": {},
   "outputs": [
    {
     "data": {
      "text/plain": [
       "'Empoyee gets the overall bonus is 121200.0'"
      ]
     },
     "execution_count": 29,
     "metadata": {},
     "output_type": "execute_result"
    }
   ],
   "source": [
    "emp.yearly_bonus(1200)"
   ]
  },
  {
   "cell_type": "code",
   "execution_count": null,
   "id": "daefb038-bcf3-407f-8008-49e481eeef76",
   "metadata": {},
   "outputs": [],
   "source": []
  },
  {
   "cell_type": "code",
   "execution_count": null,
   "id": "a19cd79c-ca4a-4805-9d17-66cf4145e8b1",
   "metadata": {},
   "outputs": [],
   "source": [
    "Problem 3: Vehicle Rental Create a class representing a vehicle rental system. Implement methods to rent a vehicle, return a vehicle, and display available vehicles.\n"
   ]
  },
  {
   "cell_type": "code",
   "execution_count": 13,
   "id": "092de573-d48f-45ef-9d69-acb7ccc1bd10",
   "metadata": {},
   "outputs": [],
   "source": [
    "class VehicleRentalSystem:\n",
    "    def __init__(self):\n",
    "        self.available_vehicles = {}\n",
    "        self.rented_vehicles = {}\n",
    "\n",
    "    def add_vehicle(self, vehicle_id, vehicle_type):\n",
    "        if vehicle_id not in self.available_vehicles and vehicle_id not in self.rented_vehicles:\n",
    "            self.available_vehicles[vehicle_id] = vehicle_type\n",
    "            return f\"Added {vehicle_type} with ID {vehicle_id} to the available vehicles.\"\n",
    "        else:\n",
    "            return f\"Vehicle with ID {vehicle_id} already exists in the system.\"\n",
    "\n",
    "    def rent_vehicle(self, vehicle_id, renter_name):\n",
    "        if vehicle_id in self.available_vehicles:\n",
    "            vehicle_type = self.available_vehicles[vehicle_id]\n",
    "            self.rented_vehicles[vehicle_id] = (renter_name, vehicle_type)\n",
    "            del self.available_vehicles[vehicle_id]\n",
    "            return f\"{renter_name} has rented the {vehicle_type} with ID {vehicle_id}.\"\n",
    "        else:\n",
    "            return f\"Vehicle with ID {vehicle_id} is not available for rent.\"\n",
    "\n",
    "    def return_vehicle(self, vehicle_id):\n",
    "        if vehicle_id in self.rented_vehicles:\n",
    "            renter_name, vehicle_type = self.rented_vehicles[vehicle_id]\n",
    "            del self.rented_vehicles[vehicle_id]\n",
    "            self.available_vehicles[vehicle_id] = vehicle_type\n",
    "            return f\"{renter_name} has returned the {vehicle_type} with ID {vehicle_id}.\"\n",
    "        else:\n",
    "            return f\"Vehicle with ID {vehicle_id} is not currently rented.\"\n",
    "\n",
    "    def display_available_vehicles(self):\n",
    "        return \"Available Vehicles: \\n\" + \"\\n\".join(f\"ID: {id}, Type: {vehicle_type}\" for id, vehicle_type in self.available_vehicles.items())\n",
    "\n"
   ]
  },
  {
   "cell_type": "code",
   "execution_count": 19,
   "id": "dc5f3b67-0521-4f75-b03c-abdf3528be4d",
   "metadata": {},
   "outputs": [],
   "source": [
    "vehicle_rental = VehicleRentalSystem()"
   ]
  },
  {
   "cell_type": "code",
   "execution_count": 20,
   "id": "b30c54c9-3bd2-437a-bcff-2101f1c7e8fb",
   "metadata": {},
   "outputs": [
    {
     "name": "stdout",
     "output_type": "stream",
     "text": [
      "Added Car with ID V001 to the available vehicles.\n",
      "Added Bike with ID V002 to the available vehicles.\n",
      "Added Scooter with ID V003 to the available vehicles.\n"
     ]
    }
   ],
   "source": [
    "print(vehicle_rental.add_vehicle(\"V001\", \"Car\"))\n",
    "print(vehicle_rental.add_vehicle(\"V002\", \"Bike\"))\n",
    "print(vehicle_rental.add_vehicle(\"V003\", \"Scooter\"))\n"
   ]
  },
  {
   "cell_type": "code",
   "execution_count": 21,
   "id": "7b5b66f6-136d-4d07-b319-6ced0b5e8171",
   "metadata": {},
   "outputs": [
    {
     "name": "stdout",
     "output_type": "stream",
     "text": [
      "Available Vehicles: \n",
      "ID: V001, Type: Car\n",
      "ID: V002, Type: Bike\n",
      "ID: V003, Type: Scooter\n"
     ]
    }
   ],
   "source": [
    "print(vehicle_rental.display_available_vehicles())\n",
    "\n"
   ]
  },
  {
   "cell_type": "code",
   "execution_count": 22,
   "id": "b3dc377a-c8ea-4fbb-8396-2d8766268659",
   "metadata": {},
   "outputs": [
    {
     "name": "stdout",
     "output_type": "stream",
     "text": [
      "John Doe has rented the Car with ID V001.\n",
      "Alice Smith has rented the Bike with ID V002.\n"
     ]
    }
   ],
   "source": [
    "print(vehicle_rental.rent_vehicle(\"V001\", \"John Doe\"))\n",
    "print(vehicle_rental.rent_vehicle(\"V002\", \"Alice Smith\"))\n"
   ]
  },
  {
   "cell_type": "code",
   "execution_count": 23,
   "id": "20d5d749-aa97-40f6-89ac-273dc31a527c",
   "metadata": {},
   "outputs": [
    {
     "name": "stdout",
     "output_type": "stream",
     "text": [
      "Available Vehicles: \n",
      "ID: V003, Type: Scooter\n"
     ]
    }
   ],
   "source": [
    "print(vehicle_rental.display_available_vehicles())\n"
   ]
  },
  {
   "cell_type": "code",
   "execution_count": 24,
   "id": "871b6008-b3bd-43d8-a12e-dfe677e2cdf0",
   "metadata": {},
   "outputs": [
    {
     "name": "stdout",
     "output_type": "stream",
     "text": [
      "Alice Smith has returned the Bike with ID V002.\n"
     ]
    }
   ],
   "source": [
    "print(vehicle_rental.return_vehicle(\"V002\"))\n"
   ]
  },
  {
   "cell_type": "code",
   "execution_count": null,
   "id": "52d71b74-7af4-48ff-9b6e-b3814eeefed0",
   "metadata": {},
   "outputs": [],
   "source": []
  },
  {
   "cell_type": "markdown",
   "id": "2bb9be3c-1e04-4e1c-a707-b995c2e88cd7",
   "metadata": {},
   "source": [
    "Problem 4: Library Catalog Create classes representing a library and a book. Implement methods to add books to the library, borrow books, and display available books.\n"
   ]
  },
  {
   "cell_type": "code",
   "execution_count": 12,
   "id": "73b9c3a4-ae2b-453a-b37d-23e6462faf87",
   "metadata": {},
   "outputs": [],
   "source": [
    "class Book:\n",
    "    def __init__(self, title, author):\n",
    "        self.title = title\n",
    "        self.author = author\n",
    "        self.is_available = True\n",
    "\n",
    "    def borrow(self):\n",
    "        if self.is_available:\n",
    "            self.is_available = False\n",
    "            return f\"You have borrowed '{self.title}' by {self.author}.\"\n",
    "        else:\n",
    "            return f\"'{self.title}' is already borrowed by someone else.\"\n",
    "\n",
    "    def return_book(self):\n",
    "        if not self.is_available:\n",
    "            self.is_available = True\n",
    "            return f\"You have returned '{self.title}' by {self.author}.\"\n",
    "        else:\n",
    "            return f\"'{self.title}' is not currently borrowed.\"\n",
    "\n",
    "    def __str__(self):\n",
    "        availability = \"Available\" if self.is_available else \"Borrowed\"\n",
    "        return f\"'{self.title}' by {self.author} - {availability}\"\n",
    "\n",
    "class Library:\n",
    "    def __init__(self):\n",
    "        self.books = []\n",
    "\n",
    "    def add_book(self, book):\n",
    "        self.books.append(book)\n",
    "        return f\"'{book.title}' by {book.author} has been added to the library.\"\n",
    "\n",
    "    def display_available_books(self):\n",
    "        available_books = [book for book in self.books if book.is_available]\n",
    "        if available_books:\n",
    "            return \"\\n\".join(str(book) for book in available_books)\n",
    "        else:\n",
    "            return \"No books are currently available in the library.\"\n",
    "  "
   ]
  },
  {
   "cell_type": "code",
   "execution_count": 3,
   "id": "ede73640-e75f-4139-a39d-93dcc6414df5",
   "metadata": {},
   "outputs": [],
   "source": [
    "library = Library()\n"
   ]
  },
  {
   "cell_type": "code",
   "execution_count": 8,
   "id": "67a4a061-9605-4d23-8b0b-f85e5e913a08",
   "metadata": {},
   "outputs": [],
   "source": [
    "book1 = Book(\"The compound effect\", \"darren hardey\")\n",
    "book2 = Book(\"7 habit of highly effective people\", \"r covey\")\n",
    "book3 = Book(\"1984\", \"George Orwell\")"
   ]
  },
  {
   "cell_type": "code",
   "execution_count": 9,
   "id": "90d67c76-2f94-4952-9d38-57c9f4251f62",
   "metadata": {},
   "outputs": [
    {
     "name": "stdout",
     "output_type": "stream",
     "text": [
      "'The compound effect' by darren hardey has been added to the library.\n",
      "'7 habit of highly effective people' by r covey has been added to the library.\n",
      "'1984' by George Orwell has been added to the library.\n"
     ]
    }
   ],
   "source": [
    "print(library.add_book(book1))\n",
    "print(library.add_book(book2))\n",
    "print(library.add_book(book3))"
   ]
  },
  {
   "cell_type": "code",
   "execution_count": 10,
   "id": "af29d77a-6ee1-42df-b7f6-07fc8dd5921e",
   "metadata": {},
   "outputs": [
    {
     "name": "stdout",
     "output_type": "stream",
     "text": [
      "\n",
      "Available Books:\n",
      "'The Great Gatsby' by F. Scott Fitzgerald - Available\n",
      "'To Kill a Mockingbird' by Harper Lee - Available\n",
      "'1984' by George Orwell - Available\n",
      "'The compound effect' by darren hardey - Available\n",
      "'7 habit of highly effective people' by r covey - Available\n",
      "'1984' by George Orwell - Available\n"
     ]
    }
   ],
   "source": [
    "print(\"\\nAvailable Books:\")\n",
    "print(library.display_available_books())\n"
   ]
  },
  {
   "cell_type": "code",
   "execution_count": null,
   "id": "bea1db98-e991-462f-92bc-ade3d60e4c55",
   "metadata": {},
   "outputs": [],
   "source": []
  },
  {
   "cell_type": "markdown",
   "id": "bfd10a3a-6146-4d93-b295-686dfd872f9b",
   "metadata": {},
   "source": [
    "Problem 5: Product Inventory Create classes representing a product and an inventory system. Implement methods to add products to the inventory, update product quantity, and display available products.\n"
   ]
  },
  {
   "cell_type": "markdown",
   "id": "40523c71-d274-4558-a8a9-cf98ccf2c120",
   "metadata": {},
   "source": [
    "Ans."
   ]
  },
  {
   "cell_type": "code",
   "execution_count": 25,
   "id": "f9625e50-6996-4996-967a-938f0906f76c",
   "metadata": {},
   "outputs": [],
   "source": [
    "class Product:\n",
    "    def __init__(self, product_id, name, price, quantity):\n",
    "        self.product_id = product_id\n",
    "        self.name = name\n",
    "        self.price = price\n",
    "        self.quantity = quantity\n",
    "\n",
    "    def update_quantity(self, new_quantity):\n",
    "        if new_quantity >= 0:\n",
    "            self.quantity = new_quantity\n",
    "            return f\"Updated quantity for '{self.name}' to {new_quantity}.\"\n",
    "        else:\n",
    "            return \"Invalid quantity. Please provide a non-negative quantity.\"\n",
    "\n",
    "    def __str__(self):\n",
    "        return f\"Product ID: {self.product_id}\\nName: {self.name}\\nPrice: ${self.price}\\nQuantity: {self.quantity}\"\n",
    "\n",
    "class Inventory:\n",
    "    def __init__(self):\n",
    "        self.products = {}\n",
    "\n",
    "    def add_product(self, product):\n",
    "        if product.product_id not in self.products:\n",
    "            self.products[product.product_id] = product\n",
    "            return f\"Added '{product.name}' to the inventory.\"\n",
    "        else:\n",
    "            return f\"'{product.name}' already exists in the inventory.\"\n",
    "\n",
    "    def update_product_quantity(self, product_id, new_quantity):\n",
    "        if product_id in self.products:\n",
    "            return self.products[product_id].update_quantity(new_quantity)\n",
    "        else:\n",
    "            return f\"Product with ID {product_id} is not in the inventory.\"\n",
    "\n",
    "    def display_available_products(self):\n",
    "        available_products = [product for product in self.products.values() if product.quantity > 0]\n",
    "        if available_products:\n",
    "            return \"\\n\\n\".join(str(product) for product in available_products)\n",
    "        else:\n",
    "            return \"No products are currently available in the inventory.\"\n"
   ]
  },
  {
   "cell_type": "code",
   "execution_count": 26,
   "id": "af31d6df-08b7-4eef-9fb8-67ad72315270",
   "metadata": {},
   "outputs": [],
   "source": [
    "inventory = Inventory()\n",
    "\n",
    "product1 = Product(1, \"Laptop\", 800, 10)\n",
    "product2 = Product(2, \"Smartphone\", 500, 20)\n",
    "product3 = Product(3, \"Tablet\", 300, 15)"
   ]
  },
  {
   "cell_type": "code",
   "execution_count": 27,
   "id": "d15b315e-bc60-4390-9857-8ed186d27261",
   "metadata": {},
   "outputs": [
    {
     "name": "stdout",
     "output_type": "stream",
     "text": [
      "Added 'Laptop' to the inventory.\n",
      "Added 'Smartphone' to the inventory.\n",
      "Added 'Tablet' to the inventory.\n"
     ]
    }
   ],
   "source": [
    "print(inventory.add_product(product1))\n",
    "print(inventory.add_product(product2))\n",
    "print(inventory.add_product(product3))\n"
   ]
  },
  {
   "cell_type": "code",
   "execution_count": 28,
   "id": "93debb04-278e-4028-922c-614cb02e3be6",
   "metadata": {},
   "outputs": [
    {
     "name": "stdout",
     "output_type": "stream",
     "text": [
      "\n",
      "Available Products:\n",
      "Product ID: 1\n",
      "Name: Laptop\n",
      "Price: $800\n",
      "Quantity: 10\n",
      "\n",
      "Product ID: 2\n",
      "Name: Smartphone\n",
      "Price: $500\n",
      "Quantity: 20\n",
      "\n",
      "Product ID: 3\n",
      "Name: Tablet\n",
      "Price: $300\n",
      "Quantity: 15\n",
      "\n",
      "Updating product quantity:\n",
      "Updated quantity for 'Laptop' to 5.\n"
     ]
    }
   ],
   "source": [
    "print(\"\\nAvailable Products:\")\n",
    "print(inventory.display_available_products())\n",
    "\n",
    "print(\"\\nUpdating product quantity:\")\n",
    "print(inventory.update_product_quantity(1, 5))\n"
   ]
  },
  {
   "cell_type": "code",
   "execution_count": null,
   "id": "dc478dfa-cf16-4b60-a3d2-65e67e4e2f73",
   "metadata": {},
   "outputs": [],
   "source": []
  },
  {
   "cell_type": "code",
   "execution_count": null,
   "id": "fc573541-e02a-4aae-a566-d7dbe56b1b35",
   "metadata": {},
   "outputs": [],
   "source": []
  },
  {
   "cell_type": "markdown",
   "id": "11698233-890a-42e5-9d7d-ec0b34c76a40",
   "metadata": {},
   "source": [
    "Ans."
   ]
  },
  {
   "cell_type": "code",
   "execution_count": 29,
   "id": "cdc8957d-0e26-4c41-a567-c124343a7bac",
   "metadata": {},
   "outputs": [],
   "source": [
    "class Shape:\n",
    "    def __init__(self, length=0, width=0, height=0):\n",
    "        self.length = length\n",
    "        self.width = width\n",
    "        self.height = height\n",
    "\n",
    "    def calculate_area(self):\n",
    "        pass\n",
    "\n",
    "    def calculate_perimeter(self):\n",
    "        pass\n",
    "\n",
    "class Rectangle(Shape):\n",
    "    def calculate_area(self):\n",
    "        return self.length * self.width\n",
    "\n",
    "    def calculate_perimeter(self):\n",
    "        return 2 * (self.length + self.width)\n",
    "\n",
    "class Triangle(Shape):\n",
    "    def calculate_area(self):\n",
    "        return 0.5 * self.length * self.height\n",
    "\n",
    "    def calculate_perimeter(self):\n",
    "        return self.length + self.width + self.height\n"
   ]
  },
  {
   "cell_type": "code",
   "execution_count": 30,
   "id": "b8ab5b28-6e19-4955-8a1f-4e3d09e726be",
   "metadata": {},
   "outputs": [],
   "source": [
    "rectangle = Rectangle(5, 4)\n",
    "triangle = Triangle(3, 4, 5)"
   ]
  },
  {
   "cell_type": "code",
   "execution_count": 31,
   "id": "43483538-a2cb-4d93-bc7a-5ac961354c3d",
   "metadata": {},
   "outputs": [
    {
     "name": "stdout",
     "output_type": "stream",
     "text": [
      "Rectangle Area: 20\n",
      "Rectangle Perimeter: 18\n",
      "Triangle Area: 7.5\n",
      "Triangle Perimeter: 12\n"
     ]
    }
   ],
   "source": [
    "print(f\"Rectangle Area: {rectangle.calculate_area()}\")\n",
    "print(f\"Rectangle Perimeter: {rectangle.calculate_perimeter()}\")\n",
    "\n",
    "print(f\"Triangle Area: {triangle.calculate_area()}\")\n",
    "print(f\"Triangle Perimeter: {triangle.calculate_perimeter()}\")\n"
   ]
  },
  {
   "cell_type": "code",
   "execution_count": null,
   "id": "7e6f6b01-8065-4eef-947f-75a0231c4c6d",
   "metadata": {},
   "outputs": [],
   "source": []
  },
  {
   "cell_type": "markdown",
   "id": "6ddb229b-2e26-47ab-8747-f6a382ae96b0",
   "metadata": {},
   "source": [
    "Problem 7: Student Management Create a class representing a student with attributes like student ID, name, and grades. Implement methods to calculate the average grade and display student details.\n"
   ]
  },
  {
   "cell_type": "markdown",
   "id": "aacde418-4e0c-480b-a735-241acb0c5aa8",
   "metadata": {},
   "source": [
    "Ans."
   ]
  },
  {
   "cell_type": "code",
   "execution_count": null,
   "id": "6153e6a1-b91c-4ede-8e9b-702a1a5d2c99",
   "metadata": {},
   "outputs": [],
   "source": [
    "class Shape:\n",
    "    def __init__(self, length=0, width=0, height=0):\n",
    "        self.length = length\n",
    "        self.width = width\n",
    "        self.height = height\n",
    "\n",
    "    def calculate_area(self):\n",
    "        pass\n",
    "\n",
    "    def calculate_perimeter(self):\n",
    "        pass\n",
    "\n",
    "class Rectangle(Shape):\n",
    "    def calculate_area(self):\n",
    "        return self.length * self.width\n",
    "\n",
    "    def calculate_perimeter(self):\n",
    "        return 2 * (self.length + self.width)\n",
    "\n",
    "class Triangle(Shape):\n",
    "    def calculate_area(self):\n",
    "        return 0.5 * self.length * self.height\n",
    "\n",
    "    def calculate_perimeter(self):\n",
    "        return self.length + self.width + self.height"
   ]
  },
  {
   "cell_type": "code",
   "execution_count": null,
   "id": "dfc9436a-2902-4a36-b3cf-aa2489432b61",
   "metadata": {},
   "outputs": [],
   "source": [
    "rectangle = Rectangle(5, 4)\n",
    "triangle = Triangle(3, 4, 5)"
   ]
  },
  {
   "cell_type": "code",
   "execution_count": null,
   "id": "f7652b19-113f-4eff-b104-223d3ad96974",
   "metadata": {},
   "outputs": [],
   "source": [
    "print(f\"Rectangle Area: {rectangle.calculate_area()}\")\n",
    "print(f\"Rectangle Perimeter: {rectangle.calculate_perimeter()}\")\n",
    "\n",
    "print(f\"Triangle Area: {triangle.calculate_area()}\")\n",
    "print(f\"Triangle Perimeter: {triangle.calculate_perimeter()}\")"
   ]
  },
  {
   "cell_type": "code",
   "execution_count": null,
   "id": "29d08b9d-6e55-4cd4-8ee1-794bd61634de",
   "metadata": {},
   "outputs": [],
   "source": []
  },
  {
   "cell_type": "markdown",
   "id": "eb73816a-34a4-4a1a-b888-42afada4231f",
   "metadata": {},
   "source": [
    "Problem 8: Email Management Create a class representing an email with attributes like sender, recipient, and subject. Implement methods to send an email and display email details."
   ]
  },
  {
   "cell_type": "markdown",
   "id": "e142e9d5-7cd8-4ceb-aef7-5c0ee9fd1f46",
   "metadata": {},
   "source": [
    "Ans."
   ]
  },
  {
   "cell_type": "code",
   "execution_count": 33,
   "id": "e66a8291-ea99-473a-82c6-c86b7446349f",
   "metadata": {},
   "outputs": [],
   "source": [
    "class Email:\n",
    "    def __init__(self, sender, recipient, subject, message):\n",
    "        self.sender = sender\n",
    "        self.recipient = recipient\n",
    "        self.subject = subject\n",
    "        self.message = message\n",
    "        self.sent = False\n",
    "\n",
    "    def send_email(self):\n",
    "        if not self.sent:\n",
    "            self.sent = True\n",
    "            return f\"Email sent from {self.sender} to {self.recipient} with subject: '{self.subject}'.\"\n",
    "        else:\n",
    "            return \"This email has already been sent.\"\n",
    "\n",
    "    def display_email(self):\n",
    "        return f\"From: {self.sender}\\nTo: {self.recipient}\\nSubject: {self.subject}\\nMessage:\\n{self.message}\"\n"
   ]
  },
  {
   "cell_type": "code",
   "execution_count": 34,
   "id": "7695a43f-592a-4a9a-8685-5096e1cd4416",
   "metadata": {},
   "outputs": [],
   "source": [
    "email = Email(\"john@example.com\", \"alice@example.com\", \"Hello\", \"This is a test email message.\")\n"
   ]
  },
  {
   "cell_type": "code",
   "execution_count": 35,
   "id": "89700c94-b492-4853-87c6-9128f97e7923",
   "metadata": {},
   "outputs": [
    {
     "name": "stdout",
     "output_type": "stream",
     "text": [
      "Email sent from john@example.com to alice@example.com with subject: 'Hello'.\n",
      "From: john@example.com\n",
      "To: alice@example.com\n",
      "Subject: Hello\n",
      "Message:\n",
      "This is a test email message.\n"
     ]
    }
   ],
   "source": [
    "print(email.send_email())\n",
    "print(email.display_email())"
   ]
  },
  {
   "cell_type": "code",
   "execution_count": 36,
   "id": "f5a96797-84ac-4fb0-b913-ba8fd53394b7",
   "metadata": {},
   "outputs": [
    {
     "name": "stdout",
     "output_type": "stream",
     "text": [
      "This email has already been sent.\n"
     ]
    }
   ],
   "source": [
    "print(email.send_email())\n"
   ]
  },
  {
   "cell_type": "code",
   "execution_count": null,
   "id": "f0d3da1a-8474-4f5b-b884-ae87f724763f",
   "metadata": {},
   "outputs": [],
   "source": []
  },
  {
   "cell_type": "markdown",
   "id": "c8c0e5dd-f11f-4a57-a84c-d7fa7aa3fcaf",
   "metadata": {},
   "source": [
    "Problem 9: Social Media Profile Create a class representing a social media profile with attributes like username and posts. Implement methods to add posts, display posts, and search for posts by keyword.\n"
   ]
  },
  {
   "cell_type": "code",
   "execution_count": 37,
   "id": "f5e229b4-6885-4ef4-a185-a4fd1b1429f1",
   "metadata": {},
   "outputs": [
    {
     "name": "stdout",
     "output_type": "stream",
     "text": [
      "Posts by user123:\n",
      "Hello, this is my first post on social media.\n",
      "I love coding and programming in Python.\n",
      "Just had a great time at the beach. #vacation\n",
      "Posts by user123 containing the keyword 'coding':\n",
      "I love coding and programming in Python.\n"
     ]
    }
   ],
   "source": [
    "class SocialMediaProfile:\n",
    "    def __init__(self, username):\n",
    "        self.username = username\n",
    "        self.posts = []\n",
    "\n",
    "    def add_post(self, content):\n",
    "        self.posts.append(content)\n",
    "\n",
    "    def display_posts(self):\n",
    "        if not self.posts:\n",
    "            return f\"{self.username} has no posts yet.\"\n",
    "        return f\"Posts by {self.username}:\\n\" + \"\\n\".join(self.posts)\n",
    "\n",
    "    def search_posts(self, keyword):\n",
    "        matching_posts = [post for post in self.posts if keyword in post]\n",
    "        if not matching_posts:\n",
    "            return f\"No posts by {self.username} contain the keyword '{keyword}'.\"\n",
    "        return f\"Posts by {self.username} containing the keyword '{keyword}':\\n\" + \"\\n\".join(matching_posts)\n",
    "\n",
    "# Example usage:\n",
    "profile = SocialMediaProfile(\"user123\")\n",
    "\n",
    "profile.add_post(\"Hello, this is my first post on social media.\")\n",
    "profile.add_post(\"I love coding and programming in Python.\")\n",
    "profile.add_post(\"Just had a great time at the beach. #vacation\")\n",
    "\n",
    "print(profile.display_posts())\n",
    "\n",
    "search_keyword = \"coding\"\n",
    "print(profile.search_posts(search_keyword))\n"
   ]
  },
  {
   "cell_type": "code",
   "execution_count": 38,
   "id": "da249c3b-d020-4e3d-b194-8105c409a294",
   "metadata": {},
   "outputs": [],
   "source": [
    "profile = SocialMediaProfile(\"user123\")"
   ]
  },
  {
   "cell_type": "code",
   "execution_count": 39,
   "id": "53d57118-925f-4d95-9962-fb184481696f",
   "metadata": {},
   "outputs": [],
   "source": [
    "profile.add_post(\"Hello, this is my first post on social media.\")\n",
    "profile.add_post(\"I love coding and programming in Python.\")\n",
    "profile.add_post(\"Just had a great time at the beach. #vacation\")"
   ]
  },
  {
   "cell_type": "code",
   "execution_count": 40,
   "id": "f68f6a77-012e-47ff-ab97-77f52a490244",
   "metadata": {},
   "outputs": [
    {
     "name": "stdout",
     "output_type": "stream",
     "text": [
      "Posts by user123:\n",
      "Hello, this is my first post on social media.\n",
      "I love coding and programming in Python.\n",
      "Just had a great time at the beach. #vacation\n"
     ]
    }
   ],
   "source": [
    "print(profile.display_posts())\n"
   ]
  },
  {
   "cell_type": "code",
   "execution_count": 41,
   "id": "f4b64c50-6338-4ddd-af11-c75419669d68",
   "metadata": {},
   "outputs": [
    {
     "name": "stdout",
     "output_type": "stream",
     "text": [
      "Posts by user123 containing the keyword 'coding':\n",
      "I love coding and programming in Python.\n"
     ]
    }
   ],
   "source": [
    "search_keyword = \"coding\"\n",
    "print(profile.search_posts(search_keyword))"
   ]
  },
  {
   "cell_type": "code",
   "execution_count": null,
   "id": "0f5423c9-9f74-4bce-9923-bed8b661583b",
   "metadata": {},
   "outputs": [],
   "source": []
  },
  {
   "cell_type": "markdown",
   "id": "dbe88ffb-ecf9-4424-baf6-92f9288aecc0",
   "metadata": {},
   "source": [
    "Problem 10: ToDo List Create a class representing a ToDo list with attributes like tasks and due dates. Implement methods to add tasks, mark tasks as completed, and display pending tasks."
   ]
  },
  {
   "cell_type": "markdown",
   "id": "0ac7aaeb-6e3b-4625-b63b-f08f696608f1",
   "metadata": {},
   "source": [
    "Ans."
   ]
  },
  {
   "cell_type": "code",
   "execution_count": 43,
   "id": "5b8897e0-fbad-4ca6-8cc6-31f341e8392c",
   "metadata": {},
   "outputs": [
    {
     "name": "stdout",
     "output_type": "stream",
     "text": [
      "Pending tasks in the ToDo list:\n",
      "Buy groceries\n",
      "Finish the report\n",
      "Call mom\n",
      "Task 'Finish the report' has been marked as completed.\n",
      "Pending tasks in the ToDo list:\n",
      "Buy groceries\n",
      "Call mom\n"
     ]
    }
   ],
   "source": [
    "class ToDoList:\n",
    "    def __init__(self):\n",
    "        self.tasks = []\n",
    "\n",
    "    def add_task(self, task, due_date=None):\n",
    "        if due_date is None:\n",
    "            self.tasks.append({\"task\": task, \"completed\": False})\n",
    "        else:\n",
    "            self.tasks.append({\"task\": task, \"due_date\": due_date, \"completed\": False})\n",
    "\n",
    "    def mark_task_as_completed(self, task):\n",
    "        for t in self.tasks:\n",
    "            if t[\"task\"] == task:\n",
    "                t[\"completed\"] = True\n",
    "                return f\"Task '{task}' has been marked as completed.\"\n",
    "        return f\"Task '{task}' not found in the ToDo list.\"\n",
    "\n",
    "    def display_pending_tasks(self):\n",
    "        pending_tasks = [t for t in self.tasks if not t[\"completed\"]]\n",
    "        if not pending_tasks:\n",
    "            return \"No pending tasks in the ToDo list.\"\n",
    "        task_list = \"\\n\".join(t[\"task\"] for t in pending_tasks)\n",
    "        return f\"Pending tasks in the ToDo list:\\n{task_list}\"\n",
    "\n",
    "# Example usage:\n",
    "todo_list = ToDoList()\n",
    "\n",
    "todo_list.add_task(\"Buy groceries\", \"2023-10-20\")\n",
    "todo_list.add_task(\"Finish the report\")\n",
    "todo_list.add_task(\"Call mom\", \"2023-10-25\")\n",
    "\n",
    "print(todo_list.display_pending_tasks())\n",
    "\n",
    "completed_task = \"Finish the report\"\n",
    "print(todo_list.mark_task_as_completed(completed_task))\n",
    "\n",
    "print(todo_list.display_pending_tasks())\n"
   ]
  },
  {
   "cell_type": "code",
   "execution_count": 44,
   "id": "c81cd9a6-b430-4695-b209-c4f094481af2",
   "metadata": {},
   "outputs": [],
   "source": [
    "todo_list = ToDoList()"
   ]
  },
  {
   "cell_type": "code",
   "execution_count": 45,
   "id": "e7886641-5848-41e5-b730-641b83ab5384",
   "metadata": {},
   "outputs": [],
   "source": [
    "todo_list.add_task(\"Buy groceries\", \"2023-10-20\")\n",
    "todo_list.add_task(\"Finish the report\")\n",
    "todo_list.add_task(\"Call mom\", \"2023-10-25\")\n"
   ]
  },
  {
   "cell_type": "code",
   "execution_count": 46,
   "id": "53e98977-5170-49bf-9b04-89933d78cd15",
   "metadata": {},
   "outputs": [
    {
     "name": "stdout",
     "output_type": "stream",
     "text": [
      "Pending tasks in the ToDo list:\n",
      "Buy groceries\n",
      "Finish the report\n",
      "Call mom\n"
     ]
    }
   ],
   "source": [
    "print(todo_list.display_pending_tasks())"
   ]
  },
  {
   "cell_type": "code",
   "execution_count": 47,
   "id": "5b65db80-c664-48e8-afc0-bcd25babc24d",
   "metadata": {},
   "outputs": [
    {
     "name": "stdout",
     "output_type": "stream",
     "text": [
      "Task 'Finish the report' has been marked as completed.\n"
     ]
    }
   ],
   "source": [
    "completed_task = \"Finish the report\"\n",
    "print(todo_list.mark_task_as_completed(completed_task))\n"
   ]
  },
  {
   "cell_type": "code",
   "execution_count": 48,
   "id": "d97e40be-4b10-4017-b213-5945b7c797c4",
   "metadata": {},
   "outputs": [
    {
     "name": "stdout",
     "output_type": "stream",
     "text": [
      "Pending tasks in the ToDo list:\n",
      "Buy groceries\n",
      "Call mom\n"
     ]
    }
   ],
   "source": [
    "print(todo_list.display_pending_tasks())"
   ]
  },
  {
   "cell_type": "code",
   "execution_count": null,
   "id": "531dc3cc-108d-47fa-89f9-a9ecc903da6c",
   "metadata": {},
   "outputs": [],
   "source": []
  },
  {
   "cell_type": "code",
   "execution_count": null,
   "id": "f9925ece-1d1c-470f-b473-4eb158e4c32e",
   "metadata": {},
   "outputs": [],
   "source": []
  }
 ],
 "metadata": {
  "kernelspec": {
   "display_name": "Python 3 (ipykernel)",
   "language": "python",
   "name": "python3"
  },
  "language_info": {
   "codemirror_mode": {
    "name": "ipython",
    "version": 3
   },
   "file_extension": ".py",
   "mimetype": "text/x-python",
   "name": "python",
   "nbconvert_exporter": "python",
   "pygments_lexer": "ipython3",
   "version": "3.10.8"
  }
 },
 "nbformat": 4,
 "nbformat_minor": 5
}
